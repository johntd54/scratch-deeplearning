{
 "cells": [
  {
   "cell_type": "markdown",
   "metadata": {},
   "source": [
    "<h1><center>CONVOLUTIONS</center></h1>"
   ]
  },
  {
   "cell_type": "code",
   "execution_count": 1,
   "metadata": {},
   "outputs": [],
   "source": [
    "import numpy as np\n",
    "import torch\n",
    "import torch.nn as nn\n",
    "\n",
    "from dawnet.utils.image import show_images"
   ]
  },
  {
   "cell_type": "markdown",
   "metadata": {},
   "source": [
    "# Transposed convolution\n",
    "\n",
    "Transposed convolution is a method to \"reconstruct\" the input feature map, using the knowledge of output feature map and the convolution filters. I put the reconstruct inside a quote because this reconstruction merely recreates an input feature map that has the same dimension as the original feature map, while the exact values of the original feature map are not reconstructed.\n",
    "\n",
    "Even though the transposed convolution does not faithfully reconstruct the input feature map, it is still useful for the following reasons:\n",
    "- the input feature map shape is retained, hence transposed convolution provides a mechanism to upsample an image\n",
    "- the exact reconstructed values are not the same as the original values, however, since both the knowlege of output feature map and the convolution filters are used, the values still provide some knowledge regarding the input feature map (the values of reconstructed input feature map depends on the values of original feature map)\n",
    "- it is fast to use"
   ]
  },
  {
   "cell_type": "markdown",
   "metadata": {},
   "source": [
    "**Initialize the input feature map simply as list of 16 numbers, reshaped as a 4x4 matrix, reformatted to have a batch and channel dimension in order to work with Pytorch `nn.Conv2d`.**"
   ]
  },
  {
   "cell_type": "code",
   "execution_count": 2,
   "metadata": {},
   "outputs": [
    {
     "name": "stdout",
     "output_type": "stream",
     "text": [
      "Input feature:\n",
      "tensor([[[[76., 97., 21., 93., 75., 17., 66., 95., 79., 59.],\n",
      "          [ 6., 67., 36., 42., 64.,  3., 61., 62., 87., 58.],\n",
      "          [86., 89., 98., 70., 56., 83., 22., 45., 12., 85.],\n",
      "          [74., 73., 57., 82., 37., 38., 19., 20.,  7., 35.],\n",
      "          [53., 77., 25., 71.,  4., 88., 90., 44., 91., 15.],\n",
      "          [80., 39., 46., 34., 16., 33., 84., 81., 65., 69.],\n",
      "          [ 0., 43., 72., 49., 14., 99., 40., 10., 24., 63.],\n",
      "          [ 5., 54., 96., 27., 55., 48., 78., 13., 30., 51.],\n",
      "          [11., 60., 31.,  2.,  8., 26., 68., 47., 52., 50.],\n",
      "          [28., 94., 18., 23., 32., 41., 92., 29.,  1.,  9.]]]])\n",
      "\n",
      "Output_feature:\n",
      "tensor([[[[ 69.6557,  32.1158,  71.9167,  45.9923,  -1.2418,  78.3735,  36.2720,\n",
      "            53.6632],\n",
      "          [ 58.0597,  45.7470,  37.2921,  26.4294,  24.7348,  31.6862,  37.8080,\n",
      "            22.5889],\n",
      "          [ 46.3977,  49.6880,  23.9288,  47.3108,  44.2560,  17.2110,  51.6113,\n",
      "            19.8462],\n",
      "          [ 52.4065,  19.7753,  45.9308,  -9.1038,  52.2293,  37.6946,  22.0879,\n",
      "            58.2667],\n",
      "          [ 27.7577,  29.5851,  28.7646,  36.9888,  62.2145,  42.0189,  28.4958,\n",
      "            36.3077],\n",
      "          [ 37.1879,  37.6372,  31.4955,   7.8226,  85.1850,  40.3114,  29.1560,\n",
      "            30.6597],\n",
      "          [ 50.6000,  48.8651, -11.4751,  33.5827,  53.8918,  18.3085,   9.5403,\n",
      "            45.4534],\n",
      "          [ 64.4817,  36.9075,   0.8739,  36.0048,  51.5789,  38.9113,  -0.0386,\n",
      "            28.8391]]]], grad_fn=<ThnnConv2DBackward>)\n"
     ]
    }
   ],
   "source": [
    "WIDTH = 10\n",
    "HEIGHT = 10\n",
    "RANDOM = True        # flip this value between True/False to see the dependence of reconstructed on original\n",
    "\n",
    "input_feature = np.arange(HEIGHT * WIDTH).astype(np.float32)\n",
    "if RANDOM:\n",
    "    np.random.shuffle(input_feature)\n",
    "input_feature = input_feature.reshape(1, 1, HEIGHT, WIDTH)\n",
    "input_feature = torch.FloatTensor(input_feature)\n",
    "\n",
    "conv_forward = nn.Conv2d(in_channels=1, out_channels=1, kernel_size=3, stride=1)\n",
    "output_feature = conv_forward(input_feature)\n",
    "\n",
    "print('Input feature:')\n",
    "print(input_feature)\n",
    "print()\n",
    "print('Output_feature:')\n",
    "print(output_feature)"
   ]
  },
  {
   "cell_type": "markdown",
   "metadata": {},
   "source": [
    "**This is the weights and biases of the forward convolution filters**"
   ]
  },
  {
   "cell_type": "code",
   "execution_count": 3,
   "metadata": {},
   "outputs": [
    {
     "name": "stdout",
     "output_type": "stream",
     "text": [
      "Weights:\n",
      "tensor([[[[-0.2918,  0.2762,  0.2772],\n",
      "          [-0.1903,  0.3308, -0.0957],\n",
      "          [ 0.1388,  0.0036,  0.2998]]]])\n",
      "Biases:\n",
      "tensor([0.0138])\n"
     ]
    }
   ],
   "source": [
    "print('Weights:')\n",
    "print(conv_forward.weight.data)\n",
    "print('Biases:')\n",
    "print(conv_forward.bias.data)"
   ]
  },
  {
   "cell_type": "markdown",
   "metadata": {},
   "source": [
    "**Create a transposed convolution layer that has the same configurations with `conv_forward`. Then re-initialized the layer's weights and biases with those of `conv_forward`**"
   ]
  },
  {
   "cell_type": "code",
   "execution_count": 4,
   "metadata": {},
   "outputs": [
    {
     "name": "stdout",
     "output_type": "stream",
     "text": [
      "Weights (before):\n",
      "tensor([[[[-0.2611,  0.0115, -0.0957],\n",
      "          [-0.1362,  0.2726, -0.0306],\n",
      "          [ 0.0339,  0.0668, -0.1967]]]])\n",
      "Biases (before):\n",
      "tensor([0.1718])\n",
      "\n",
      "Weights (after):\n",
      "tensor([[[[-0.2918,  0.2762,  0.2772],\n",
      "          [-0.1903,  0.3308, -0.0957],\n",
      "          [ 0.1388,  0.0036,  0.2998]]]])\n",
      "Biases (after):\n",
      "tensor([0.0138])\n"
     ]
    }
   ],
   "source": [
    "conv_transposed = nn.ConvTranspose2d(in_channels=1, out_channels=1, kernel_size=3, stride=1)\n",
    "print('Weights (before):')\n",
    "print(conv_transposed.weight.data)\n",
    "print('Biases (before):')\n",
    "print(conv_transposed.bias.data)\n",
    "\n",
    "_ = conv_transposed.weight.data.copy_(conv_forward.weight.data)\n",
    "_ = conv_transposed.bias.data.copy_(conv_forward.bias.data)\n",
    "\n",
    "print()\n",
    "print('Weights (after):')\n",
    "print(conv_transposed.weight.data)\n",
    "print('Biases (after):')\n",
    "print(conv_transposed.bias.data)"
   ]
  },
  {
   "cell_type": "markdown",
   "metadata": {},
   "source": [
    "**Perform the transposed convolution to get the reconstructed input feature map. Normalize it to have the same range with the original input feature map and compare it with the original input feature map**"
   ]
  },
  {
   "cell_type": "code",
   "execution_count": 5,
   "metadata": {},
   "outputs": [
    {
     "name": "stdout",
     "output_type": "stream",
     "text": [
      "Reconstructed input feature:\n",
      "tensor([[[[-20.3127,   9.8792,   7.2045,  15.3562,  33.0122, -10.4513,  10.7298,\n",
      "            16.0954,  24.8883,  14.8884],\n",
      "          [-30.1812,  19.6277,   8.1293,  27.2424,  18.9944, -14.8011,  23.7284,\n",
      "             6.9299,  31.0086,   1.1369],\n",
      "          [-14.9029,  13.5352,  53.0726,  25.7853,  28.8169,  44.6134,   7.8350,\n",
      "            49.4966,  34.7188,  19.4409],\n",
      "          [-16.0473,  21.1672,  36.7850,  32.5103,  14.6354,  20.1593,  22.8688,\n",
      "            23.9769,  35.2668,  21.0366],\n",
      "          [-11.6164,  19.6810,  17.6788,  41.9449,  -3.8121,  42.8939,  44.3065,\n",
      "             9.6460,  50.6416,  10.4489],\n",
      "          [ -8.8446,   5.7859,  35.3389,  21.3352,   4.6776,  25.6763,  47.6301,\n",
      "            28.2552,  32.6741,  22.5049],\n",
      "          [-17.9741,   9.0742,  46.1999,  20.0220,  -8.8615,  55.7652,  39.6124,\n",
      "            12.1497,  31.2339,  20.5627],\n",
      "          [-23.2677,  19.8488,  56.9817,  -2.4023,  18.3967,  32.2556,  53.8796,\n",
      "            11.5738,  30.9393,  12.8477],\n",
      "          [ -5.2304,  21.2837,  19.6334,   9.1899,   6.1862,  19.0261,  25.5000,\n",
      "             2.6212,  12.5791,  10.8800],\n",
      "          [  8.9645,   5.3676,  19.5996,  16.0801,   7.5643,  16.3943,  15.6117,\n",
      "            15.6830,   0.1054,   8.6602]]]],\n",
      "       grad_fn=<ThnnConvTranspose2DBackward>)\n",
      "\n",
      "Normalized reconstructed input feature:\n",
      "tensor([[[[11.2087, 45.5007, 42.4628, 51.7216, 71.7754, 22.4093, 46.4669,\n",
      "           52.5611, 62.5481, 51.1902],\n",
      "          [ 0.0000, 56.5732, 43.5133, 65.2220, 55.8538, 17.4688, 61.2307,\n",
      "           42.1510, 69.4996, 35.5713],\n",
      "          [17.3531, 49.6532, 94.5600, 63.5670, 67.0102, 84.9520, 43.1790,\n",
      "           90.4984, 73.7136, 56.3610],\n",
      "          [16.0534, 58.3217, 76.0605, 71.2052, 50.9029, 57.1770, 60.2544,\n",
      "           61.5130, 74.3361, 58.1734],\n",
      "          [21.0859, 56.6337, 54.3596, 81.9212, 29.9502, 82.9990, 84.6035,\n",
      "           45.2359, 91.7989, 46.1479],\n",
      "          [24.2342, 40.8515, 74.4181, 58.5126, 39.5928, 63.4432, 88.3784,\n",
      "           66.3724, 71.3913, 59.8411],\n",
      "          [13.8648, 44.5864, 86.7540, 57.0210, 24.2151, 97.6183, 79.2719,\n",
      "           48.0797, 69.7555, 57.6351],\n",
      "          [ 7.8523, 56.8243, 99.0000, 31.5514, 55.1750, 70.9160, 95.4767,\n",
      "           47.4256, 69.4210, 48.8724],\n",
      "          [28.3392, 58.4540, 56.5796, 44.7179, 41.3063, 55.8898, 63.2429,\n",
      "           37.2571, 48.5674, 46.6375],\n",
      "          [44.4619, 40.3764, 56.5412, 52.5438, 42.8715, 52.9006, 52.0117,\n",
      "           52.0927, 34.3997, 44.1162]]]], grad_fn=<ThMulBackward>)\n",
      "\n",
      "Original input feature:\n",
      "tensor([[[[76., 97., 21., 93., 75., 17., 66., 95., 79., 59.],\n",
      "          [ 6., 67., 36., 42., 64.,  3., 61., 62., 87., 58.],\n",
      "          [86., 89., 98., 70., 56., 83., 22., 45., 12., 85.],\n",
      "          [74., 73., 57., 82., 37., 38., 19., 20.,  7., 35.],\n",
      "          [53., 77., 25., 71.,  4., 88., 90., 44., 91., 15.],\n",
      "          [80., 39., 46., 34., 16., 33., 84., 81., 65., 69.],\n",
      "          [ 0., 43., 72., 49., 14., 99., 40., 10., 24., 63.],\n",
      "          [ 5., 54., 96., 27., 55., 48., 78., 13., 30., 51.],\n",
      "          [11., 60., 31.,  2.,  8., 26., 68., 47., 52., 50.],\n",
      "          [28., 94., 18., 23., 32., 41., 92., 29.,  1.,  9.]]]])\n",
      "tensor([[[[66.5615, 36.4724, 63.1916, 49.8805,  9.9773, 72.8488, 42.3629,\n",
      "           57.4246],\n",
      "          [57.0076, 59.0597, 43.5030, 30.3932, 42.0619, 39.5589, 58.5818,\n",
      "           44.7800],\n",
      "          [63.2540, 69.1196, 29.5745, 57.6954, 49.1667, 40.7808, 74.0318,\n",
      "           37.3425],\n",
      "          [67.8559, 46.5784, 47.8886, 22.7998, 63.5254, 53.9027, 44.0093,\n",
      "           63.4657],\n",
      "          [54.4389, 56.0418, 35.9875, 40.5431, 70.1135, 50.7527, 43.6558,\n",
      "           54.4163],\n",
      "          [59.6291, 57.3173, 35.8651, 25.1114, 87.1069, 51.7533, 40.7205,\n",
      "           46.8391],\n",
      "          [61.2564, 67.4036,  3.8731, 45.6882, 70.5917, 39.4481, 23.8422,\n",
      "           49.8106],\n",
      "          [72.6499, 44.3900, 16.0925, 48.8117, 56.2685, 48.6980, 17.8525,\n",
      "           43.9841]]]], grad_fn=<ThnnConv2DBackward>)\n"
     ]
    }
   ],
   "source": [
    "input_feature_reconstructed = conv_transposed(output_feature)\n",
    "\n",
    "print('Reconstructed input feature:')\n",
    "print(input_feature_reconstructed)\n",
    "print()\n",
    "print('Normalized reconstructed input feature:')\n",
    "input_feature_reconstructed -= torch.min(input_feature_reconstructed)\n",
    "input_feature_reconstructed *= torch.max(input_feature) / torch.max(input_feature_reconstructed)\n",
    "print(input_feature_reconstructed)\n",
    "print()\n",
    "print('Original input feature:')\n",
    "print(input_feature)\n",
    "\n",
    "print(conv_forward(input_feature_reconstructed))"
   ]
  },
  {
   "cell_type": "markdown",
   "metadata": {},
   "source": [
    "**The image of original feature map and reconstructed feature map**"
   ]
  },
  {
   "cell_type": "code",
   "execution_count": 6,
   "metadata": {},
   "outputs": [
    {
     "data": {
      "image/png": "[encoded data removed]",
      "text/plain": [
       "<Figure size 1440x720 with 2 Axes>"
      ]
     },
     "metadata": {},
     "output_type": "display_data"
    }
   ],
   "source": [
    "input_feature_np = input_feature.squeeze().cpu().numpy()\n",
    "input_feature_reconstructed_np = input_feature_reconstructed.squeeze().cpu().detach().numpy()\n",
    "\n",
    "show_images([input_feature_np, input_feature_reconstructed_np], ['Original', 'Reconstructed'],\n",
    "            max_columns=2, notebook=True)"
   ]
  },
  {
   "cell_type": "code",
   "execution_count": null,
   "metadata": {},
   "outputs": [],
   "source": []
  }
 ],
 "metadata": {
  "kernelspec": {
   "display_name": "Python 3",
   "language": "python",
   "name": "python3"
  },
  "language_info": {
   "codemirror_mode": {
    "name": "ipython",
    "version": 3
   },
   "file_extension": ".py",
   "mimetype": "text/x-python",
   "name": "python",
   "nbconvert_exporter": "python",
   "pygments_lexer": "ipython3",
   "version": "3.6.5"
  }
 },
 "nbformat": 4,
 "nbformat_minor": 2
}
